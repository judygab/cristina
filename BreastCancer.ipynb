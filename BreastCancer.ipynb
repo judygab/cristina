{
  "nbformat": 4,
  "nbformat_minor": 0,
  "metadata": {
    "colab": {
      "name": "BreastCancer.ipynb",
      "version": "0.3.2",
      "provenance": [],
      "collapsed_sections": [],
      "include_colab_link": true
    },
    "kernelspec": {
      "name": "python3",
      "display_name": "Python 3"
    },
    "accelerator": "GPU"
  },
  "cells": [
    {
      "cell_type": "markdown",
      "metadata": {
        "id": "view-in-github",
        "colab_type": "text"
      },
      "source": [
        "<a href=\"https://colab.research.google.com/github/judygab/cristina/blob/master/BreastCancer.ipynb\" target=\"_parent\"><img src=\"https://colab.research.google.com/assets/colab-badge.svg\" alt=\"Open In Colab\"/></a>"
      ]
    },
    {
      "cell_type": "markdown",
      "metadata": {
        "id": "Oex88qd38Thn",
        "colab_type": "text"
      },
      "source": [
        "In this first cell we will upload the CSV files that contain the pre-sorted and pre-normalized data. \n",
        "For these I used the Wisconsin breast cancer dataset, sorted it into training and test sets with the 'input' values to the Neural Network as 'X' values, and the expected 'output' (a 0 if benign and a 1 if malignant) as the 'Y' values.\n"
      ]
    },
    {
      "cell_type": "code",
      "metadata": {
        "id": "m_NRnXsJzphf",
        "colab_type": "code",
        "outputId": "9bb2ffdb-93af-49bc-f410-e55a55ddaa16",
        "colab": {
          "base_uri": "https://localhost:8080/",
          "height": 34
        }
      },
      "source": [
        "import pandas as pd\n",
        "\n",
        "# from google.colab import files\n",
        "# file = files.upload()\n",
        "\n",
        "from google.colab import drive\n",
        "drive.mount('/content/gdrive', force_remount=True)\n",
        "\n",
        "xtrain_csv_path = \"/content/gdrive/My Drive/ML/Breast Cancer Example/xtrain.csv\"\n",
        "ytrain_csv_path = \"/content/gdrive/My Drive/ML/Breast Cancer Example/ytrain.csv\"\n",
        "xtest_csv_path = \"/content/gdrive/My Drive/ML/Breast Cancer Example/xtest.csv\"\n",
        "ytest_csv_path = \"/content/gdrive/My Drive/ML/Breast Cancer Example/ytest.csv\"\n",
        "\n",
        "X_train = pd.read_csv(xtrain_csv_path, header=None)\n",
        "Y_train = pd.read_csv(ytrain_csv_path, header=None)\n",
        "X_test = pd.read_csv(xtest_csv_path, header=None)\n",
        "Y_test = pd.read_csv(ytest_csv_path, header=None)"
      ],
      "execution_count": 0,
      "outputs": [
        {
          "output_type": "stream",
          "text": [
            "Mounted at /content/gdrive\n"
          ],
          "name": "stdout"
        }
      ]
    },
    {
      "cell_type": "markdown",
      "metadata": {
        "id": "bL4z0BArzqff",
        "colab_type": "text"
      },
      "source": [
        "Now I'm going to use Keras to define a Neural network that will be trained off of this data. This Neural Network can then be used to predict future values for breast cancer presence. "
      ]
    },
    {
      "cell_type": "code",
      "metadata": {
        "id": "LoWtmalR80De",
        "colab_type": "code",
        "colab": {}
      },
      "source": [
        "from keras.models import Sequential\n",
        "from keras.layers import Dense\n",
        "\n",
        "classifier = Sequential() # Initialising the ANN\n",
        "\n",
        "classifier.add(Dense(units = 16, activation = 'relu', input_dim = 30))\n",
        "classifier.add(Dense(units = 8, activation = 'relu'))\n",
        "classifier.add(Dense(units = 6, activation = 'relu'))\n",
        "classifier.add(Dense(units = 1, activation = 'sigmoid'))"
      ],
      "execution_count": 0,
      "outputs": []
    },
    {
      "cell_type": "markdown",
      "metadata": {
        "id": "cJ_MStxe9CbN",
        "colab_type": "text"
      },
      "source": [
        "Once the Neural Network is defined, I now have to specify is the optimizer and loss function"
      ]
    },
    {
      "cell_type": "code",
      "metadata": {
        "id": "wR2O00E39C7E",
        "colab_type": "code",
        "colab": {}
      },
      "source": [
        "classifier.compile(optimizer = 'rmsprop', loss = 'binary_crossentropy')"
      ],
      "execution_count": 0,
      "outputs": []
    },
    {
      "cell_type": "markdown",
      "metadata": {
        "id": "Mn9WPqaP9RmN",
        "colab_type": "text"
      },
      "source": [
        "You now train the neural network using Classifier.fit, passing it the training data -- i.e. for this set of X, this is what the Y should look like. The NN will then spot the patterns in the data, and build a neural network that could replicate that. "
      ]
    },
    {
      "cell_type": "code",
      "metadata": {
        "id": "1QlYnFgH9N49",
        "colab_type": "code",
        "outputId": "43333d08-924a-4ab3-da7c-95ead538c388",
        "colab": {
          "base_uri": "https://localhost:8080/",
          "height": 3434
        }
      },
      "source": [
        "classifier.fit(X_train, Y_train, batch_size = 1, epochs = 100)"
      ],
      "execution_count": 0,
      "outputs": [
        {
          "output_type": "stream",
          "text": [
            "Epoch 1/100\n",
            "455/455 [==============================] - 2s 4ms/step - loss: 0.2671\n",
            "Epoch 2/100\n",
            "455/455 [==============================] - 1s 3ms/step - loss: 0.1070\n",
            "Epoch 3/100\n",
            "455/455 [==============================] - 1s 3ms/step - loss: 0.0869\n",
            "Epoch 4/100\n",
            "455/455 [==============================] - 1s 3ms/step - loss: 0.0791\n",
            "Epoch 5/100\n",
            "455/455 [==============================] - 1s 3ms/step - loss: 0.0843\n",
            "Epoch 6/100\n",
            "455/455 [==============================] - 1s 3ms/step - loss: 0.0806\n",
            "Epoch 7/100\n",
            "455/455 [==============================] - 1s 3ms/step - loss: 0.0792\n",
            "Epoch 8/100\n",
            "455/455 [==============================] - 1s 3ms/step - loss: 0.0892\n",
            "Epoch 9/100\n",
            "455/455 [==============================] - 1s 3ms/step - loss: 0.0863\n",
            "Epoch 10/100\n",
            "455/455 [==============================] - 1s 3ms/step - loss: 0.0802\n",
            "Epoch 11/100\n",
            "455/455 [==============================] - 1s 3ms/step - loss: 0.0771\n",
            "Epoch 12/100\n",
            "455/455 [==============================] - 1s 3ms/step - loss: 0.0864\n",
            "Epoch 13/100\n",
            "455/455 [==============================] - 1s 3ms/step - loss: 0.0841\n",
            "Epoch 14/100\n",
            "455/455 [==============================] - 1s 3ms/step - loss: 0.0794\n",
            "Epoch 15/100\n",
            "455/455 [==============================] - 1s 3ms/step - loss: 0.0812\n",
            "Epoch 16/100\n",
            "455/455 [==============================] - 1s 3ms/step - loss: 0.0760\n",
            "Epoch 17/100\n",
            "455/455 [==============================] - 1s 3ms/step - loss: 0.0789\n",
            "Epoch 18/100\n",
            "455/455 [==============================] - 1s 3ms/step - loss: 0.0714\n",
            "Epoch 19/100\n",
            "455/455 [==============================] - 1s 3ms/step - loss: 0.0867\n",
            "Epoch 20/100\n",
            "455/455 [==============================] - 1s 3ms/step - loss: 0.0761\n",
            "Epoch 21/100\n",
            "455/455 [==============================] - 1s 3ms/step - loss: 0.0720\n",
            "Epoch 22/100\n",
            "455/455 [==============================] - 1s 3ms/step - loss: 0.0638\n",
            "Epoch 23/100\n",
            "455/455 [==============================] - 1s 3ms/step - loss: 0.0673\n",
            "Epoch 24/100\n",
            "455/455 [==============================] - 1s 3ms/step - loss: 0.0682\n",
            "Epoch 25/100\n",
            "455/455 [==============================] - 1s 3ms/step - loss: 0.0609\n",
            "Epoch 26/100\n",
            "455/455 [==============================] - 1s 3ms/step - loss: 0.0612\n",
            "Epoch 27/100\n",
            "455/455 [==============================] - 1s 3ms/step - loss: 0.0632\n",
            "Epoch 28/100\n",
            "455/455 [==============================] - 1s 3ms/step - loss: 0.0537\n",
            "Epoch 29/100\n",
            "455/455 [==============================] - 1s 3ms/step - loss: 0.0525\n",
            "Epoch 30/100\n",
            "455/455 [==============================] - 1s 3ms/step - loss: 0.0459\n",
            "Epoch 31/100\n",
            "455/455 [==============================] - 1s 3ms/step - loss: 0.0454\n",
            "Epoch 32/100\n",
            "455/455 [==============================] - 1s 3ms/step - loss: 0.0423\n",
            "Epoch 33/100\n",
            "455/455 [==============================] - 1s 3ms/step - loss: 0.0368\n",
            "Epoch 34/100\n",
            "455/455 [==============================] - 1s 3ms/step - loss: 0.0412\n",
            "Epoch 35/100\n",
            "455/455 [==============================] - 1s 3ms/step - loss: 0.0473\n",
            "Epoch 36/100\n",
            "455/455 [==============================] - 1s 3ms/step - loss: 0.0336\n",
            "Epoch 37/100\n",
            "455/455 [==============================] - 1s 3ms/step - loss: 0.0525\n",
            "Epoch 38/100\n",
            "455/455 [==============================] - 1s 3ms/step - loss: 0.0349\n",
            "Epoch 39/100\n",
            "455/455 [==============================] - 1s 3ms/step - loss: 0.0447\n",
            "Epoch 40/100\n",
            "455/455 [==============================] - 1s 3ms/step - loss: 0.0280\n",
            "Epoch 41/100\n",
            "455/455 [==============================] - 1s 3ms/step - loss: 0.0352\n",
            "Epoch 42/100\n",
            "455/455 [==============================] - 1s 3ms/step - loss: 0.0325\n",
            "Epoch 43/100\n",
            "455/455 [==============================] - 1s 3ms/step - loss: 0.0224\n",
            "Epoch 44/100\n",
            "455/455 [==============================] - 1s 3ms/step - loss: 0.0375\n",
            "Epoch 45/100\n",
            "455/455 [==============================] - 1s 3ms/step - loss: 0.0291\n",
            "Epoch 46/100\n",
            "455/455 [==============================] - 1s 3ms/step - loss: 0.0348\n",
            "Epoch 47/100\n",
            "455/455 [==============================] - 1s 3ms/step - loss: 0.0245\n",
            "Epoch 48/100\n",
            "455/455 [==============================] - 1s 3ms/step - loss: 0.0333\n",
            "Epoch 49/100\n",
            "455/455 [==============================] - 1s 3ms/step - loss: 0.0249\n",
            "Epoch 50/100\n",
            "455/455 [==============================] - 1s 3ms/step - loss: 0.0260\n",
            "Epoch 51/100\n",
            "455/455 [==============================] - 1s 3ms/step - loss: 0.0380\n",
            "Epoch 52/100\n",
            "455/455 [==============================] - 1s 3ms/step - loss: 0.0264\n",
            "Epoch 53/100\n",
            "455/455 [==============================] - 1s 3ms/step - loss: 0.0322\n",
            "Epoch 54/100\n",
            "455/455 [==============================] - 1s 3ms/step - loss: 0.0328\n",
            "Epoch 55/100\n",
            "455/455 [==============================] - 1s 3ms/step - loss: 0.0315\n",
            "Epoch 56/100\n",
            "455/455 [==============================] - 1s 3ms/step - loss: 0.0165\n",
            "Epoch 57/100\n",
            "455/455 [==============================] - 1s 3ms/step - loss: 0.0251\n",
            "Epoch 58/100\n",
            "455/455 [==============================] - 1s 3ms/step - loss: 0.0364\n",
            "Epoch 59/100\n",
            "455/455 [==============================] - 1s 3ms/step - loss: 0.0294\n",
            "Epoch 60/100\n",
            "455/455 [==============================] - 1s 3ms/step - loss: 0.0240\n",
            "Epoch 61/100\n",
            "455/455 [==============================] - 1s 3ms/step - loss: 0.0287\n",
            "Epoch 62/100\n",
            "455/455 [==============================] - 1s 3ms/step - loss: 0.0241\n",
            "Epoch 63/100\n",
            "455/455 [==============================] - 1s 3ms/step - loss: 0.0257\n",
            "Epoch 64/100\n",
            "455/455 [==============================] - 1s 3ms/step - loss: 0.0244\n",
            "Epoch 65/100\n",
            "455/455 [==============================] - 1s 3ms/step - loss: 0.0171\n",
            "Epoch 66/100\n",
            "455/455 [==============================] - 1s 3ms/step - loss: 0.0223\n",
            "Epoch 67/100\n",
            "455/455 [==============================] - 1s 3ms/step - loss: 0.0156\n",
            "Epoch 68/100\n",
            "455/455 [==============================] - 1s 3ms/step - loss: 0.0160\n",
            "Epoch 69/100\n",
            "455/455 [==============================] - 1s 3ms/step - loss: 0.0277\n",
            "Epoch 70/100\n",
            "455/455 [==============================] - 1s 3ms/step - loss: 0.0246\n",
            "Epoch 71/100\n",
            "455/455 [==============================] - 1s 3ms/step - loss: 0.0217\n",
            "Epoch 72/100\n",
            "455/455 [==============================] - 1s 3ms/step - loss: 0.0263\n",
            "Epoch 73/100\n",
            "455/455 [==============================] - 1s 3ms/step - loss: 0.0199\n",
            "Epoch 74/100\n",
            "455/455 [==============================] - 1s 3ms/step - loss: 0.0190\n",
            "Epoch 75/100\n",
            "455/455 [==============================] - 1s 3ms/step - loss: 0.0165\n",
            "Epoch 76/100\n",
            "455/455 [==============================] - 1s 3ms/step - loss: 0.0217\n",
            "Epoch 77/100\n",
            "455/455 [==============================] - 1s 3ms/step - loss: 0.0175\n",
            "Epoch 78/100\n",
            "455/455 [==============================] - 1s 3ms/step - loss: 0.0298\n",
            "Epoch 79/100\n",
            "455/455 [==============================] - 1s 3ms/step - loss: 0.0230\n",
            "Epoch 80/100\n",
            "455/455 [==============================] - 1s 3ms/step - loss: 0.0179\n",
            "Epoch 81/100\n",
            "455/455 [==============================] - 1s 3ms/step - loss: 0.0240\n",
            "Epoch 82/100\n",
            "455/455 [==============================] - 1s 3ms/step - loss: 0.0161\n",
            "Epoch 83/100\n",
            "455/455 [==============================] - 1s 3ms/step - loss: 0.0166\n",
            "Epoch 84/100\n",
            "455/455 [==============================] - 1s 3ms/step - loss: 0.0219\n",
            "Epoch 85/100\n",
            "455/455 [==============================] - 1s 3ms/step - loss: 0.0193\n",
            "Epoch 86/100\n",
            "455/455 [==============================] - 1s 3ms/step - loss: 0.0230\n",
            "Epoch 87/100\n",
            "455/455 [==============================] - 1s 3ms/step - loss: 0.0141\n",
            "Epoch 88/100\n",
            "455/455 [==============================] - 1s 3ms/step - loss: 0.0128\n",
            "Epoch 89/100\n",
            "455/455 [==============================] - 1s 3ms/step - loss: 0.0145\n",
            "Epoch 90/100\n",
            "455/455 [==============================] - 1s 3ms/step - loss: 0.0204\n",
            "Epoch 91/100\n",
            "455/455 [==============================] - 1s 3ms/step - loss: 0.0134\n",
            "Epoch 92/100\n",
            "455/455 [==============================] - 1s 3ms/step - loss: 0.0153\n",
            "Epoch 93/100\n",
            "455/455 [==============================] - 1s 3ms/step - loss: 0.0141\n",
            "Epoch 94/100\n",
            "455/455 [==============================] - 1s 3ms/step - loss: 0.0207\n",
            "Epoch 95/100\n",
            "455/455 [==============================] - 2s 3ms/step - loss: 0.0110\n",
            "Epoch 96/100\n",
            "455/455 [==============================] - 2s 3ms/step - loss: 0.0169\n",
            "Epoch 97/100\n",
            "455/455 [==============================] - 2s 3ms/step - loss: 0.0160\n",
            "Epoch 98/100\n",
            "455/455 [==============================] - 1s 3ms/step - loss: 0.0042\n",
            "Epoch 99/100\n",
            "455/455 [==============================] - 2s 3ms/step - loss: 0.0119\n",
            "Epoch 100/100\n",
            "455/455 [==============================] - 1s 3ms/step - loss: 0.0063\n"
          ],
          "name": "stdout"
        },
        {
          "output_type": "execute_result",
          "data": {
            "text/plain": [
              "<keras.callbacks.History at 0x7fd7802bd2e8>"
            ]
          },
          "metadata": {
            "tags": []
          },
          "execution_count": 54
        }
      ]
    },
    {
      "cell_type": "markdown",
      "metadata": {
        "id": "yrnGgtfn9gsE",
        "colab_type": "text"
      },
      "source": [
        "To predict new values, the Neural Network uses classifier.predict. I'm going to pass it the test values for X (which the Neural Network hasn't previously seen) and it will give me back a set of predictions. These predicitons will be probabilities, so I will clean them up by saying that if thye are greater than .5, I'll make them 1, else I'll make them 0."
      ]
    },
    {
      "cell_type": "code",
      "metadata": {
        "id": "xEaG0Tkx9fUU",
        "colab_type": "code",
        "colab": {}
      },
      "source": [
        "Y_pred = classifier.predict(X_test)\n",
        "Y_pred = [ 1 if y>=0.9999999 else 0 for y in Y_pred ] "
      ],
      "execution_count": 0,
      "outputs": []
    },
    {
      "cell_type": "markdown",
      "metadata": {
        "id": "oQK3Qo9h97OW",
        "colab_type": "text"
      },
      "source": [
        "Now we can loop through the set of predicitons for the test set (called Y_pred) and the actual values for the test set (celled Y_test), and see how alike they are -- if they are the same, I'll increment 'correct', otherwise I'll incrememnt 'wrong'. \n",
        "\n",
        "You'll see the result is 100% accurate, even though the neural network reported a lower accuracy than that. Why? "
      ]
    },
    {
      "cell_type": "code",
      "metadata": {
        "id": "he_2VHJ_9yC1",
        "colab_type": "code",
        "outputId": "013b6851-ef99-409d-83fc-7fd7f900bc1a",
        "colab": {
          "base_uri": "https://localhost:8080/",
          "height": 68
        }
      },
      "source": [
        "total = 0\n",
        "correct = 0\n",
        "wrong = 0\n",
        "for i in Y_pred:\n",
        "  total=total+1\n",
        "  if(Y_test.at[i,0] == Y_pred[i]):\n",
        "    correct=correct+1\n",
        "  else:\n",
        "    wrong=wrong+1\n",
        "\n",
        "print(\"Total \" + str(total))\n",
        "print(\"Correct \" + str(correct))\n",
        "print(\"Wrong \" + str(wrong))"
      ],
      "execution_count": 0,
      "outputs": [
        {
          "output_type": "stream",
          "text": [
            "Total 114\n",
            "Correct 114\n",
            "Wrong 0\n"
          ],
          "name": "stdout"
        }
      ]
    }
  ]
}